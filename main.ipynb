{
  "cells": [
    {
      "cell_type": "code",
      "execution_count": 1,
      "metadata": {
        "colab": {
          "base_uri": "https://localhost:8080/"
        },
        "id": "9m4_kx_jmYAS",
        "outputId": "6c29da93-d7d4-45ab-c826-0e70ba38022a"
      },
      "outputs": [
        {
          "name": "stdout",
          "output_type": "stream",
          "text": [
            "No of videos :43 \n",
            "Average length of video :0:17:23.930233 \n",
            "Total length of playlist :12:28:09\n"
          ]
        }
      ],
      "source": [
        "from datetime import timedelta\n",
        "import datetime\n",
        "import isodate\n",
        "import json, requests\n",
        "\n",
        "yt_api = '' \n",
        "\n",
        "playlist_id = 'PLncHg6Kn2JT5dfQqpVtfNYvv3EBVHHVKo'\n",
        "\n",
        "URL1 = 'https://www.googleapis.com/youtube/v3/playlistItems?part=contentDetails&maxResults=50&fields=items/contentDetails/videoId,nextPageToken&key={}&playlistId={}&pageToken='.format(yt_api, playlist_id)\n",
        "\n",
        "URL2 = 'https://www.googleapis.com/youtube/v3/videos?&part=contentDetails&key={}&id={}&fields=items/contentDetails/duration'.format(yt_api, '{}')\n",
        "\n",
        "next_page = ''\n",
        "cnt = 0\n",
        "a = timedelta(0)\n",
        "\n",
        "while True:\n",
        "    vid_list = [] \n",
        "\n",
        "    results = json.loads(requests.get(URL1 + next_page).text)\n",
        "    \n",
        "    # print(json.dumps(results, indent=4, sort_keys=True))\n",
        "\n",
        "    for x in results['items']:\n",
        "        vid_list.append(x['contentDetails']['videoId'])\n",
        "        \n",
        "    url_list = ','.join(vid_list)\n",
        "    cnt += len(vid_list)\n",
        "\n",
        "    op = json.loads(requests.get(URL2.format(url_list)).text)\n",
        "\n",
        "    # print(json.dumps(op, indent=4, sort_keys=True))\n",
        "\n",
        "    for x in op['items']:\n",
        "        a += isodate.parse_duration(x['contentDetails']['duration'])\n",
        "\n",
        "    if 'nextPageToken' in results:\n",
        "        next_page = results['nextPageToken']\n",
        "    else:\n",
        "        print('No of videos :' + str(cnt), \n",
        "              '\\nAverage length of video :' + str(a/cnt), \n",
        "              '\\nTotal length of playlist :' + str(a))\n",
        "        break"
      ]
    },
    {
      "cell_type": "code",
      "execution_count": null,
      "metadata": {
        "id": "K30EmzbVoHuv"
      },
      "outputs": [],
      "source": []
    }
  ],
  "metadata": {
    "colab": {
      "collapsed_sections": [],
      "provenance": []
    },
    "kernelspec": {
      "display_name": "Python 3.10.2 ('venv': venv)",
      "language": "python",
      "name": "python3"
    },
    "language_info": {
      "codemirror_mode": {
        "name": "ipython",
        "version": 3
      },
      "file_extension": ".py",
      "mimetype": "text/x-python",
      "name": "python",
      "nbconvert_exporter": "python",
      "pygments_lexer": "ipython3",
      "version": "3.10.2"
    },
    "vscode": {
      "interpreter": {
        "hash": "7fa2615c988ba0bbc2787a25624d6dab399784a32c5c4c75e656abd3c5d647be"
      }
    }
  },
  "nbformat": 4,
  "nbformat_minor": 0
}
